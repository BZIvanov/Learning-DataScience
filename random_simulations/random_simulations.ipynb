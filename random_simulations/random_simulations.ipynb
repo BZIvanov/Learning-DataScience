{
 "cells": [
  {
   "cell_type": "markdown",
   "id": "d0720dd0",
   "metadata": {},
   "source": [
    "# Random Simulations"
   ]
  },
  {
   "cell_type": "markdown",
   "id": "cc03fe61",
   "metadata": {},
   "source": [
    "## Import the necessary libraries"
   ]
  },
  {
   "cell_type": "code",
   "execution_count": null,
   "id": "c4b39abf",
   "metadata": {},
   "outputs": [],
   "source": [
    "import random\n",
    "from collections import Counter\n",
    "import matplotlib.pyplot as plt"
   ]
  },
  {
   "cell_type": "markdown",
   "id": "f71aa4fd",
   "metadata": {},
   "source": [
    "## Distribution of 5 random types"
   ]
  },
  {
   "cell_type": "code",
   "execution_count": null,
   "id": "b3cb5224",
   "metadata": {
    "scrolled": false
   },
   "outputs": [],
   "source": [
    "types = [\"A\", \"B\", \"C\", \"D\", \"E\"]\n",
    "\n",
    "type_counts = Counter()\n",
    "\n",
    "for _ in range(700):\n",
    "    random_type = random.choice(types)\n",
    "    type_counts[random_type] += 1\n",
    "\n",
    "type_labels = list(type_counts.keys())\n",
    "type_counts = list(type_counts.values())\n",
    "\n",
    "plt.figure(figsize=(8, 6))\n",
    "plt.bar(type_labels, type_counts, color=['blue', 'green', 'red', 'purple', 'orange'])\n",
    "plt.xlabel(\"Type\")\n",
    "plt.ylabel(\"Count\")\n",
    "plt.title(\"Distribution of Randomly Generated Types\")\n",
    "plt.xticks(rotation=0, ha=\"right\")\n",
    "plt.tight_layout()\n",
    "\n",
    "plt.show()"
   ]
  },
  {
   "cell_type": "markdown",
   "id": "121199e5",
   "metadata": {},
   "source": [
    "## Plot counts for Typa A"
   ]
  },
  {
   "cell_type": "code",
   "execution_count": null,
   "id": "0f27b5fd",
   "metadata": {},
   "outputs": [],
   "source": [
    "types = [\"A\", \"B\", \"C\", \"D\", \"E\"]\n",
    "\n",
    "type_a_counts = []\n",
    "\n",
    "for _ in range(51):\n",
    "    type_counts = Counter()\n",
    "\n",
    "    for _ in range(700):\n",
    "        random_type = random.choice(types)\n",
    "        type_counts[random_type] += 1\n",
    "\n",
    "    type_a_count = type_counts[\"A\"]\n",
    "    type_a_counts.append(type_a_count)\n",
    "\n",
    "plt.figure(figsize=(8, 6))\n",
    "plt.plot(range(1, 52), type_a_counts, marker='o', linestyle='-', color='blue')\n",
    "plt.xlabel(\"Iteration\")\n",
    "plt.ylabel(\"Count of Type A\")\n",
    "plt.title(\"Count of Type A Over 51 Iterations\")\n",
    "plt.grid(True)\n",
    "plt.tight_layout()\n",
    "\n",
    "plt.show()"
   ]
  },
  {
   "cell_type": "markdown",
   "id": "dc70ed9d",
   "metadata": {},
   "source": [
    "## Plot counts for non A types"
   ]
  },
  {
   "cell_type": "code",
   "execution_count": null,
   "id": "e60df494",
   "metadata": {},
   "outputs": [],
   "source": [
    "types = [\"A\", \"B\", \"C\", \"D\", \"E\"]\n",
    "\n",
    "combined_counts = []\n",
    "\n",
    "for _ in range(51):\n",
    "    type_counts = Counter()\n",
    "\n",
    "    for _ in range(700):\n",
    "        random_type = random.choice(types)\n",
    "        type_counts[random_type] += 1\n",
    "\n",
    "    combined_count = sum(type_counts.values()) - type_counts[\"A\"]\n",
    "    combined_counts.append(combined_count)\n",
    "\n",
    "plt.figure(figsize=(8, 6))\n",
    "plt.plot(range(1, 52), combined_counts, marker='o', linestyle='-', color='orange')\n",
    "plt.xlabel(\"Iteration\")\n",
    "plt.ylabel(\"Combined Count (Excluding Type A)\")\n",
    "plt.title(\"Combined Count of Non-A Types Over 51 Iterations\")\n",
    "plt.grid(True)\n",
    "plt.tight_layout()\n",
    "\n",
    "plt.show()"
   ]
  },
  {
   "cell_type": "markdown",
   "id": "12eb1f8f",
   "metadata": {},
   "source": [
    "## Plot counts for all types with counter for type A"
   ]
  },
  {
   "cell_type": "markdown",
   "id": "df2b7adb",
   "metadata": {},
   "source": [
    "We will start with counter of 0 and counting to 140, if the type is A increase the count."
   ]
  },
  {
   "cell_type": "code",
   "execution_count": null,
   "id": "26a6b784",
   "metadata": {},
   "outputs": [],
   "source": [
    "types = [\"A\", \"B\", \"C\", \"D\", \"E\"]\n",
    "\n",
    "combined_counts = []\n",
    "\n",
    "for _ in range(51):\n",
    "    type_counts = Counter()\n",
    "    counter = 0  \n",
    "\n",
    "    while counter < 140:\n",
    "        random_type = random.choice(types)\n",
    "        \n",
    "        if random_type == \"A\":\n",
    "            counter += 1\n",
    "            \n",
    "        type_counts[random_type] += 1\n",
    "\n",
    "    combined_count = sum(type_counts.values())\n",
    "    combined_counts.append(combined_count)\n",
    "\n",
    "plt.figure(figsize=(8, 6))\n",
    "plt.plot(range(1, 52), combined_counts, marker='o', linestyle='-')\n",
    "plt.xlabel(\"Iteration\")\n",
    "plt.ylabel(\"Combined Count\")\n",
    "plt.title(\"Combined Count of Types Over 51 Iterations\")\n",
    "plt.grid(True)\n",
    "plt.tight_layout()\n",
    "\n",
    "plt.show()"
   ]
  }
 ],
 "metadata": {
  "kernelspec": {
   "display_name": "Python 3 (ipykernel)",
   "language": "python",
   "name": "python3"
  },
  "language_info": {
   "codemirror_mode": {
    "name": "ipython",
    "version": 3
   },
   "file_extension": ".py",
   "mimetype": "text/x-python",
   "name": "python",
   "nbconvert_exporter": "python",
   "pygments_lexer": "ipython3",
   "version": "3.10.9"
  }
 },
 "nbformat": 4,
 "nbformat_minor": 5
}
