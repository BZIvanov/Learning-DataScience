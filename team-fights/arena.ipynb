{
 "cells": [
  {
   "cell_type": "markdown",
   "metadata": {},
   "source": [
    "# Team Fights\n",
    "\n",
    "This is demo project about the 2 fighting teams and their statistics."
   ]
  },
  {
   "cell_type": "markdown",
   "metadata": {},
   "source": [
    "## Dataframes\n",
    "\n",
    "The data is in 2 csv files, one for each time.\n",
    "\n",
    "### About the data\n",
    "\n",
    "- `player_name` - Unique player name for the team and the fight.\n",
    "- `era` - Represents how advanced is the player in the eras. Player from one era is fightning against NPCs of the same era to gain more battles count.\n",
    "- `stat_arc` - Player statistic type giving some bonus. It is integer or NaN in case the player has none of it.\n",
    "- `stat_obs` - Player statistic type giving some bonus. It is integer or NaN in case the player has none of it.\n",
    "- `stat_aic` - Player statistic type giving some bonus. It is integer or NaN in case the player has none of it.\n",
    "- `stat_atom` - Player statistic type giving some bonus. It is integer or NaN in case the player has none of it.\n",
    "- `stat_hydra` - Player statistic type giving some bonus. It is integer or NaN in case the player has none of it.\n",
    "- `jan31_feb14` - the battles count the player did for specific date range."
   ]
  },
  {
   "cell_type": "markdown",
   "metadata": {},
   "source": [
    "## Import the necessary libraries"
   ]
  },
  {
   "cell_type": "code",
   "execution_count": null,
   "metadata": {},
   "outputs": [],
   "source": [
    "import numpy as np\n",
    "import pandas as pd\n",
    "import matplotlib.pyplot as plt"
   ]
  },
  {
   "cell_type": "markdown",
   "metadata": {},
   "source": [
    "## Prepare the data frames"
   ]
  },
  {
   "cell_type": "code",
   "execution_count": null,
   "metadata": {},
   "outputs": [],
   "source": [
    "team_one = pd.read_csv('team_one.csv')\n",
    "team_two = pd.read_csv('team_two.csv')"
   ]
  },
  {
   "cell_type": "markdown",
   "metadata": {},
   "source": [
    "### Preview the data for each data frame"
   ]
  },
  {
   "cell_type": "code",
   "execution_count": null,
   "metadata": {},
   "outputs": [],
   "source": [
    "team_one.head()"
   ]
  },
  {
   "cell_type": "code",
   "execution_count": null,
   "metadata": {},
   "outputs": [],
   "source": [
    "team_two.head()"
   ]
  },
  {
   "cell_type": "markdown",
   "metadata": {},
   "source": [
    "## Display players count for each era for both teams"
   ]
  },
  {
   "cell_type": "markdown",
   "metadata": {},
   "source": [
    "### Prepare custom sorder order by era column"
   ]
  },
  {
   "cell_type": "markdown",
   "metadata": {},
   "source": [
    "Because the eras cannot be sorted alphabetically or any other way, we will provide custom sort starting from the highest and going to the lowest era."
   ]
  },
  {
   "cell_type": "code",
   "execution_count": null,
   "metadata": {},
   "outputs": [],
   "source": [
    "custom_sort_order = ['SAT','SAJM','SAV','SAAB','SAM','VF','OF','AF','FE','TE','CE','PME','ME','PE','INA','CA','LMA','HMA','EMA','IA']"
   ]
  },
  {
   "cell_type": "markdown",
   "metadata": {},
   "source": [
    "### Make era column categorical and prepare combined data frame for both teams"
   ]
  },
  {
   "cell_type": "markdown",
   "metadata": {},
   "source": [
    "Below we will make era column categorical so we can use it for sorting the values in our custom specific order"
   ]
  },
  {
   "cell_type": "code",
   "execution_count": null,
   "metadata": {},
   "outputs": [],
   "source": [
    "team_one['era'] = pd.Categorical(team_one['era'], categories=custom_sort_order, ordered=True)\n",
    "team_two['era'] = pd.Categorical(team_two['era'], categories=custom_sort_order, ordered=True)\n",
    "\n",
    "team_one_era_counts = team_one['era'].value_counts().sort_index()\n",
    "team_two_era_counts = team_two['era'].value_counts().sort_index()\n",
    "\n",
    "combined_counts_df = pd.DataFrame({\n",
    "    'Era': team_one_era_counts.index,\n",
    "    'Team 1': team_one_era_counts.values,\n",
    "    'Team 2': team_two_era_counts.values\n",
    "})"
   ]
  },
  {
   "cell_type": "markdown",
   "metadata": {},
   "source": [
    "Below we will hide the index column to make visually more simple by showing only the actual data columns."
   ]
  },
  {
   "cell_type": "code",
   "execution_count": null,
   "metadata": {},
   "outputs": [],
   "source": [
    "print(\"Players count in each era\")\n",
    "combined_counts_df.style.hide(axis=\"index\")"
   ]
  },
  {
   "cell_type": "markdown",
   "metadata": {},
   "source": [
    "### Display bar plots for the players count for the different eras"
   ]
  },
  {
   "cell_type": "markdown",
   "metadata": {},
   "source": [
    "#### Team 1 bar plot"
   ]
  },
  {
   "cell_type": "markdown",
   "metadata": {},
   "source": [
    "Above we made era categorical column and now we can sort the values by era column"
   ]
  },
  {
   "cell_type": "code",
   "execution_count": null,
   "metadata": {},
   "outputs": [],
   "source": [
    "era_counts_team_one = team_one['era'].value_counts().sort_index()\n",
    "\n",
    "plt.figure(figsize=(10, 6))\n",
    "era_counts_team_one.plot(kind='bar')\n",
    "plt.title('Counts by Era for Team 1')\n",
    "plt.xlabel('Era')\n",
    "plt.ylabel('Players count')\n",
    "plt.xticks(rotation=45)\n",
    "plt.grid(axis='y', linestyle='--', alpha=0.7)\n",
    "plt.tight_layout()\n",
    "plt.show()"
   ]
  },
  {
   "cell_type": "markdown",
   "metadata": {},
   "source": [
    "#### Team 2 bar plot"
   ]
  },
  {
   "cell_type": "code",
   "execution_count": null,
   "metadata": {},
   "outputs": [],
   "source": [
    "era_counts_team_two = team_two['era'].value_counts().sort_index()\n",
    "\n",
    "plt.figure(figsize=(10, 6))\n",
    "era_counts_team_two.plot(kind='bar')\n",
    "plt.title('Counts by Era for Team 2')\n",
    "plt.xlabel('Era')\n",
    "plt.ylabel('Players count')\n",
    "plt.xticks(rotation=45)\n",
    "plt.grid(axis='y', linestyle='--', alpha=0.7)\n",
    "plt.tight_layout()\n",
    "plt.show()"
   ]
  },
  {
   "cell_type": "markdown",
   "metadata": {},
   "source": [
    "#### Combined plot for both teams\n",
    "\n",
    "This is how we can combine the data for both data frames and display column value for both data frames as bar plot"
   ]
  },
  {
   "cell_type": "code",
   "execution_count": null,
   "metadata": {},
   "outputs": [],
   "source": [
    "era_counts_team_one = team_one['era'].value_counts().sort_index()\n",
    "era_counts_team_two = team_two['era'].value_counts().sort_index()\n",
    "\n",
    "eras_both_teams = era_counts_team_one.index.union(era_counts_team_two.index)\n",
    "\n",
    "team_one_counts = [era_counts_team_one.get(era, 0) for era in eras_both_teams]\n",
    "team_two_counts = [era_counts_team_two.get(era, 0) for era in eras_both_teams]\n",
    "\n",
    "bar_width = 0.35\n",
    "index = np.arange(len(eras_both_teams))\n",
    "\n",
    "plt.figure(figsize=(10, 6))\n",
    "plt.bar(index, team_one_counts, bar_width, label='Team 1')\n",
    "plt.bar(index + bar_width, team_two_counts, bar_width, label='Team 2')\n",
    "\n",
    "plt.xlabel('Era')\n",
    "plt.ylabel('Players Count')\n",
    "plt.title('Counts by Era')\n",
    "plt.xticks(index + bar_width / 2, eras_both_teams, rotation=45)\n",
    "plt.legend()\n",
    "plt.tight_layout()\n",
    "plt.show()"
   ]
  },
  {
   "cell_type": "markdown",
   "metadata": {},
   "source": [
    "### Total statistics for the player stats"
   ]
  },
  {
   "cell_type": "markdown",
   "metadata": {},
   "source": [
    "Get total value for each row for the stats columns and grand total for the totals of the columns multiplied by their importance."
   ]
  },
  {
   "cell_type": "code",
   "execution_count": null,
   "metadata": {},
   "outputs": [],
   "source": [
    "total_arc_stat_team_one = team_one['stat_arc'].sum().astype(int)\n",
    "total_obs_stat_team_one = team_one['stat_obs'].sum().astype(int)\n",
    "total_aic_stat_team_one = team_one['stat_aic'].sum().astype(int)\n",
    "total_atom_stat_team_one = team_one['stat_atom'].sum().astype(int)\n",
    "total_hydra_stat_team_one = team_one['stat_hydra'].sum().astype(int)\n",
    "total_stats_team_one = total_arc_stat_team_one * 10 + total_obs_stat_team_one * 10 + total_aic_stat_team_one * 10 + total_atom_stat_team_one * 10 + total_hydra_stat_team_one * 15\n",
    "\n",
    "total_arc_stat_team_two = team_two['stat_arc'].sum().astype(int)\n",
    "total_obs_stat_team_two = team_two['stat_obs'].sum().astype(int)\n",
    "total_aic_stat_team_two = team_two['stat_aic'].sum().astype(int)\n",
    "total_atom_stat_team_two = team_two['stat_atom'].sum().astype(int)\n",
    "total_hydra_stat_team_two = team_two['stat_hydra'].sum().astype(int)\n",
    "total_stats_team_two = total_arc_stat_team_two * 10 + total_obs_stat_team_two * 10 + total_aic_stat_team_two * 10 + total_atom_stat_team_two * 10 + total_hydra_stat_team_two * 15"
   ]
  },
  {
   "cell_type": "code",
   "execution_count": null,
   "metadata": {},
   "outputs": [],
   "source": [
    "totals_team_one_stats = pd.DataFrame({\n",
    "    'Team': ['One'],\n",
    "    'Arc': [total_arc_stat_team_one],\n",
    "    'Obs': [total_obs_stat_team_one],\n",
    "    'AIC': [total_aic_stat_team_one],\n",
    "    'Atom': [total_atom_stat_team_one],\n",
    "    'Hydra': [total_hydra_stat_team_one],\n",
    "    'Total stat importance': [total_stats_team_one]\n",
    "})\n",
    "\n",
    "totals_team_two_stats = pd.DataFrame({\n",
    "    'Team': ['Two'],\n",
    "    'Arc': [total_arc_stat_team_two],\n",
    "    'Obs': [total_obs_stat_team_two],\n",
    "    'AIC': [total_aic_stat_team_two],\n",
    "    'Atom': [total_atom_stat_team_two],\n",
    "    'Hydra': [total_hydra_stat_team_two],\n",
    "    'Total stat importance': [total_stats_team_two]\n",
    "})\n",
    "\n",
    "combined_totals_both_teams = pd.concat([totals_team_one_stats, totals_team_two_stats])\n",
    "\n",
    "print(\"Total levels count and total importance for the stat totals\")\n",
    "combined_totals_both_teams.style.hide(axis=\"index\")"
   ]
  },
  {
   "cell_type": "markdown",
   "metadata": {},
   "source": [
    "### Percents of players owning stat type"
   ]
  },
  {
   "cell_type": "markdown",
   "metadata": {},
   "source": [
    "Get percents for each stat where it is present."
   ]
  },
  {
   "cell_type": "code",
   "execution_count": null,
   "metadata": {},
   "outputs": [],
   "source": [
    "percent_not_null_team_one_arc = str(int((team_one['stat_arc'].count() / len(team_one)) * 100)) + '%'\n",
    "percent_not_null_team_one_obs = str(int((team_one['stat_obs'].count() / len(team_one)) * 100)) + '%'\n",
    "percent_not_null_team_one_aic = str(int((team_one['stat_aic'].count() / len(team_one)) * 100)) + '%'\n",
    "percent_not_null_team_one_atom = str(int((team_one['stat_atom'].count() / len(team_one)) * 100)) + '%'\n",
    "percent_not_null_team_one_hydra = str(int((team_one['stat_hydra'].count() / len(team_one)) * 100)) + '%'\n",
    "\n",
    "percent_not_null_team_two_arc = str(int((team_two['stat_arc'].count() / len(team_two)) * 100)) + '%'\n",
    "percent_not_null_team_two_obs = str(int((team_two['stat_obs'].count() / len(team_two)) * 100)) + '%'\n",
    "percent_not_null_team_two_aic = str(int((team_two['stat_aic'].count() / len(team_two)) * 100)) + '%'\n",
    "percent_not_null_team_two_atom = str(int((team_two['stat_atom'].count() / len(team_two)) * 100)) + '%'\n",
    "percent_not_null_team_two_hydra = str(int((team_two['stat_hydra'].count() / len(team_two)) * 100)) + '%'"
   ]
  },
  {
   "cell_type": "code",
   "execution_count": null,
   "metadata": {},
   "outputs": [],
   "source": [
    "percent_stat_owned_team_one = pd.DataFrame({\n",
    "    'Team': ['One'],\n",
    "    'Arc': [percent_not_null_team_one_arc],\n",
    "    'Obs': [percent_not_null_team_one_obs],\n",
    "    'AIC': [percent_not_null_team_one_aic],\n",
    "    'Atom': [percent_not_null_team_one_atom],\n",
    "    'Hydra': [percent_not_null_team_one_hydra],\n",
    "})\n",
    "\n",
    "percent_stat_owned_team_two = pd.DataFrame({\n",
    "    'Team': ['Two'],\n",
    "    'Arc': [percent_not_null_team_two_arc],\n",
    "    'Obs': [percent_not_null_team_two_obs],\n",
    "    'AIC': [percent_not_null_team_two_aic],\n",
    "    'Atom': [percent_not_null_team_two_atom],\n",
    "    'Hydra': [percent_not_null_team_two_hydra],\n",
    "})\n",
    "\n",
    "combined_percent_stats = pd.concat([percent_stat_owned_team_one, percent_stat_owned_team_two])"
   ]
  },
  {
   "cell_type": "code",
   "execution_count": null,
   "metadata": {},
   "outputs": [],
   "source": [
    "print(\"Percent of players who own stat by type\")\n",
    "combined_percent_stats.style.hide(axis=\"index\")"
   ]
  },
  {
   "cell_type": "markdown",
   "metadata": {},
   "source": [
    "#### Count of players having a stat higher than 90"
   ]
  },
  {
   "cell_type": "code",
   "execution_count": null,
   "metadata": {},
   "outputs": [],
   "source": [
    "team_one_count_arc_higher_than_90 = team_one[team_one['stat_arc'] > 90]['player_name'].count()\n",
    "print(\"Team One Arc higher than 90: \", team_one_count_arc_higher_than_90)\n",
    "\n",
    "team_two_count_arc_higher_than_90 = team_two[team_two['stat_arc'] > 90]['player_name'].count()\n",
    "print(\"Team Two Arc higher than 90: \", team_two_count_arc_higher_than_90)"
   ]
  }
 ],
 "metadata": {
  "kernelspec": {
   "display_name": "Python 3 (ipykernel)",
   "language": "python",
   "name": "python3"
  },
  "language_info": {
   "codemirror_mode": {
    "name": "ipython",
    "version": 3
   },
   "file_extension": ".py",
   "mimetype": "text/x-python",
   "name": "python",
   "nbconvert_exporter": "python",
   "pygments_lexer": "ipython3",
   "version": "3.10.9"
  }
 },
 "nbformat": 4,
 "nbformat_minor": 2
}
