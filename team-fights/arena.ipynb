{
 "cells": [
  {
   "cell_type": "markdown",
   "metadata": {},
   "source": [
    "# Team Fights\n",
    "\n",
    "This is demo project about the 2 fighting teams and their statistics."
   ]
  },
  {
   "cell_type": "markdown",
   "metadata": {},
   "source": [
    "### Dataframes\n",
    "\n",
    "The data is in 2 csv files, one for each time.\n",
    "\n",
    "#### About the data\n",
    "\n",
    "- `player_name` - Unique player name for the team and the fight.\n",
    "- `era` - Represents how advanced is the player in the eras. Player from one era is fightning against NPCs of the same era to gain more battles count.\n",
    "- `stat_arc` - Player statistic type giving some bonus. It is integer or NaN in case the player has none of it.\n",
    "- `stat_obs` - Player statistic type giving some bonus. It is integer or NaN in case the player has none of it.\n",
    "- `stat_aic` - Player statistic type giving some bonus. It is integer or NaN in case the player has none of it.\n",
    "- `stat_atom` - Player statistic type giving some bonus. It is integer or NaN in case the player has none of it.\n",
    "- `stat_hydra` - Player statistic type giving some bonus. It is integer or NaN in case the player has none of it.\n",
    "- `jan31_feb14` - the battles count the player did for specific date range."
   ]
  },
  {
   "cell_type": "markdown",
   "metadata": {},
   "source": [
    "### Import the necessary libraries"
   ]
  },
  {
   "cell_type": "code",
   "execution_count": null,
   "metadata": {},
   "outputs": [],
   "source": [
    "import numpy as np\n",
    "import pandas as pd\n",
    "import matplotlib.pyplot as plt"
   ]
  },
  {
   "cell_type": "markdown",
   "metadata": {},
   "source": [
    "### Prepare the data frames"
   ]
  },
  {
   "cell_type": "code",
   "execution_count": null,
   "metadata": {},
   "outputs": [],
   "source": [
    "team_one = pd.read_csv('team_one.csv')\n",
    "team_two = pd.read_csv('team_two.csv')"
   ]
  },
  {
   "cell_type": "markdown",
   "metadata": {},
   "source": [
    "#### Preview the data for each data frame"
   ]
  },
  {
   "cell_type": "code",
   "execution_count": null,
   "metadata": {},
   "outputs": [],
   "source": [
    "team_one.head()"
   ]
  },
  {
   "cell_type": "code",
   "execution_count": null,
   "metadata": {},
   "outputs": [],
   "source": [
    "team_two.head()"
   ]
  },
  {
   "cell_type": "code",
   "execution_count": null,
   "metadata": {},
   "outputs": [],
   "source": []
  }
 ],
 "metadata": {
  "kernelspec": {
   "display_name": "Python 3 (ipykernel)",
   "language": "python",
   "name": "python3"
  },
  "language_info": {
   "codemirror_mode": {
    "name": "ipython",
    "version": 3
   },
   "file_extension": ".py",
   "mimetype": "text/x-python",
   "name": "python",
   "nbconvert_exporter": "python",
   "pygments_lexer": "ipython3",
   "version": "3.10.9"
  }
 },
 "nbformat": 4,
 "nbformat_minor": 2
}
