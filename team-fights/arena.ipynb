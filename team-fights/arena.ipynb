{
 "cells": [
  {
   "cell_type": "markdown",
   "metadata": {},
   "source": [
    "# Team Fights\n",
    "\n",
    "This is demo project about the 2 fighting teams and their statistics."
   ]
  },
  {
   "cell_type": "markdown",
   "metadata": {},
   "source": [
    "### Dataframes\n",
    "\n",
    "The data is in 2 csv files, one for each time.\n",
    "\n",
    "#### About the data\n",
    "\n",
    "- `player_name` - Unique player name for the team and the fight.\n",
    "- `era` - Represents how advanced is the player in the eras. Player from one era is fightning against NPCs of the same era to gain more battles count.\n",
    "- `stat_arc` - Player statistic type giving some bonus. It is integer or NaN in case the player has none of it.\n",
    "- `stat_obs` - Player statistic type giving some bonus. It is integer or NaN in case the player has none of it.\n",
    "- `stat_aic` - Player statistic type giving some bonus. It is integer or NaN in case the player has none of it.\n",
    "- `stat_atom` - Player statistic type giving some bonus. It is integer or NaN in case the player has none of it.\n",
    "- `stat_hydra` - Player statistic type giving some bonus. It is integer or NaN in case the player has none of it.\n",
    "- `jan31_feb14` - the battles count the player did for specific date range."
   ]
  },
  {
   "cell_type": "markdown",
   "metadata": {},
   "source": [
    "### Import the necessary libraries"
   ]
  },
  {
   "cell_type": "code",
   "execution_count": null,
   "metadata": {},
   "outputs": [],
   "source": [
    "import numpy as np\n",
    "import pandas as pd\n",
    "import matplotlib.pyplot as plt"
   ]
  },
  {
   "cell_type": "markdown",
   "metadata": {},
   "source": [
    "### Prepare the data frames"
   ]
  },
  {
   "cell_type": "code",
   "execution_count": null,
   "metadata": {},
   "outputs": [],
   "source": [
    "team_one = pd.read_csv('team_one.csv')\n",
    "team_two = pd.read_csv('team_two.csv')"
   ]
  },
  {
   "cell_type": "markdown",
   "metadata": {},
   "source": [
    "#### Preview the data for each data frame"
   ]
  },
  {
   "cell_type": "code",
   "execution_count": null,
   "metadata": {},
   "outputs": [],
   "source": [
    "team_one.head()"
   ]
  },
  {
   "cell_type": "code",
   "execution_count": null,
   "metadata": {},
   "outputs": [],
   "source": [
    "team_two.head()"
   ]
  },
  {
   "cell_type": "markdown",
   "metadata": {},
   "source": [
    "### Display players count for each era for both teams"
   ]
  },
  {
   "cell_type": "markdown",
   "metadata": {},
   "source": [
    "Because the eras cannot be sorted alphabetically or any other way, we will provide custom sort starting from the highest and going to the lowest era."
   ]
  },
  {
   "cell_type": "code",
   "execution_count": null,
   "metadata": {},
   "outputs": [],
   "source": [
    "custom_sort_order = ['SAT','SAJM','SAV','SAAB','SAM','VF','OF','AF','FE','TE','CE','PME','ME','PE','INA','CA','LMA','HMA','EMA','IA']"
   ]
  },
  {
   "cell_type": "code",
   "execution_count": null,
   "metadata": {},
   "outputs": [],
   "source": [
    "team_one['era'] = pd.Categorical(team_one['era'], categories=custom_sort_order, ordered=True)\n",
    "team_two['era'] = pd.Categorical(team_two['era'], categories=custom_sort_order, ordered=True)\n",
    "\n",
    "team_one_era_counts = team_one['era'].value_counts().sort_index()\n",
    "team_two_era_counts = team_two['era'].value_counts().sort_index()\n",
    "\n",
    "combined_counts_df = pd.DataFrame({\n",
    "    'Era': team_one_era_counts.index,\n",
    "    'Team 1': team_one_era_counts.values,\n",
    "    'Team 2': team_two_era_counts.values\n",
    "})"
   ]
  },
  {
   "cell_type": "markdown",
   "metadata": {},
   "source": [
    "Below we will hide the index column to make visually more simple by showing only the actual data columns."
   ]
  },
  {
   "cell_type": "code",
   "execution_count": null,
   "metadata": {},
   "outputs": [],
   "source": [
    "print(\"Players count in each era\")\n",
    "combined_counts_df.style.hide(axis=\"index\")"
   ]
  }
 ],
 "metadata": {
  "kernelspec": {
   "display_name": "Python 3 (ipykernel)",
   "language": "python",
   "name": "python3"
  },
  "language_info": {
   "codemirror_mode": {
    "name": "ipython",
    "version": 3
   },
   "file_extension": ".py",
   "mimetype": "text/x-python",
   "name": "python",
   "nbconvert_exporter": "python",
   "pygments_lexer": "ipython3",
   "version": "3.10.9"
  }
 },
 "nbformat": 4,
 "nbformat_minor": 2
}
